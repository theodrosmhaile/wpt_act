{
 "cells": [
  {
   "cell_type": "code",
   "execution_count": 1,
   "id": "899234a1-a0fa-41fa-93e8-c80876dd7c85",
   "metadata": {},
   "outputs": [
    {
     "name": "stdout",
     "output_type": "stream",
     "text": [
      "ACT-R connection has been started.\n"
     ]
    }
   ],
   "source": [
    "import pandas as pd\n",
    "import numpy as np\n",
    "import os\n",
    "import actr"
   ]
  },
  {
   "cell_type": "code",
   "execution_count": 2,
   "id": "14a2a79b-67cf-44a7-b63d-42746440050d",
   "metadata": {
    "tags": []
   },
   "outputs": [],
   "source": [
    "import RL_wpt_interface as rl"
   ]
  },
  {
   "cell_type": "code",
   "execution_count": null,
   "id": "5dc86eac-cb81-4395-8d56-5d764c74edde",
   "metadata": {
    "tags": []
   },
   "outputs": [],
   "source": [
    "rl.execute_sim(50, 0,25,8172022)"
   ]
  },
  {
   "cell_type": "code",
   "execution_count": 3,
   "id": "ad11ccc8-092c-4ce8-8996-0ad21f326519",
   "metadata": {
    "collapsed": true,
    "jupyter": {
     "outputs_hidden": true
    },
    "tags": []
   },
   "outputs": [
    {
     "name": "stdout",
     "output_type": "stream",
     "text": [
      "sim  0\n",
      "0\n",
      "#|Warning: Invalid chunk definition: (MAKE-RESPONSE ISA GOAL FPROC YES) names a chunk which already exists. |#\n",
      "sim  1\n",
      "0\n",
      "#|Warning: Invalid chunk definition: (MAKE-RESPONSE ISA GOAL FPROC YES) names a chunk which already exists. |#\n",
      "sim  2\n",
      "0\n",
      "#|Warning: Invalid chunk definition: (MAKE-RESPONSE ISA GOAL FPROC YES) names a chunk which already exists. |#\n",
      "sim  3\n",
      "0\n",
      "#|Warning: Invalid chunk definition: (MAKE-RESPONSE ISA GOAL FPROC YES) names a chunk which already exists. |#\n",
      "sim  4\n",
      "0\n",
      "#|Warning: Invalid chunk definition: (MAKE-RESPONSE ISA GOAL FPROC YES) names a chunk which already exists. |#\n",
      "sim  5\n",
      "0\n",
      "#|Warning: Invalid chunk definition: (MAKE-RESPONSE ISA GOAL FPROC YES) names a chunk which already exists. |#\n",
      "sim  6\n",
      "0\n",
      "#|Warning: Invalid chunk definition: (MAKE-RESPONSE ISA GOAL FPROC YES) names a chunk which already exists. |#\n",
      "sim  7\n",
      "0\n",
      "#|Warning: Invalid chunk definition: (MAKE-RESPONSE ISA GOAL FPROC YES) names a chunk which already exists. |#\n",
      "sim  8\n",
      "0\n",
      "#|Warning: Invalid chunk definition: (MAKE-RESPONSE ISA GOAL FPROC YES) names a chunk which already exists. |#\n",
      "sim  9\n",
      "0\n",
      "#|Warning: Invalid chunk definition: (MAKE-RESPONSE ISA GOAL FPROC YES) names a chunk which already exists. |#\n",
      "sim  10\n",
      "0\n",
      "#|Warning: Invalid chunk definition: (MAKE-RESPONSE ISA GOAL FPROC YES) names a chunk which already exists. |#\n",
      "sim  11\n",
      "0\n",
      "#|Warning: Invalid chunk definition: (MAKE-RESPONSE ISA GOAL FPROC YES) names a chunk which already exists. |#\n",
      "sim  12\n",
      "0\n",
      "#|Warning: Invalid chunk definition: (MAKE-RESPONSE ISA GOAL FPROC YES) names a chunk which already exists. |#\n",
      "sim  13\n",
      "0\n",
      "#|Warning: Invalid chunk definition: (MAKE-RESPONSE ISA GOAL FPROC YES) names a chunk which already exists. |#\n",
      "sim  14\n",
      "0\n",
      "#|Warning: Invalid chunk definition: (MAKE-RESPONSE ISA GOAL FPROC YES) names a chunk which already exists. |#\n",
      "sim  15\n",
      "0\n",
      "#|Warning: Invalid chunk definition: (MAKE-RESPONSE ISA GOAL FPROC YES) names a chunk which already exists. |#\n",
      "sim  16\n",
      "0\n",
      "#|Warning: Invalid chunk definition: (MAKE-RESPONSE ISA GOAL FPROC YES) names a chunk which already exists. |#\n",
      "sim  17\n",
      "0\n",
      "#|Warning: Invalid chunk definition: (MAKE-RESPONSE ISA GOAL FPROC YES) names a chunk which already exists. |#\n",
      "sim  18\n",
      "0\n",
      "#|Warning: Invalid chunk definition: (MAKE-RESPONSE ISA GOAL FPROC YES) names a chunk which already exists. |#\n",
      "sim  19\n",
      "0\n",
      "#|Warning: Invalid chunk definition: (MAKE-RESPONSE ISA GOAL FPROC YES) names a chunk which already exists. |#\n",
      "sim  20\n",
      "0\n",
      "#|Warning: Invalid chunk definition: (MAKE-RESPONSE ISA GOAL FPROC YES) names a chunk which already exists. |#\n",
      "sim  21\n",
      "0\n",
      "#|Warning: Invalid chunk definition: (MAKE-RESPONSE ISA GOAL FPROC YES) names a chunk which already exists. |#\n",
      "sim  22\n",
      "0\n",
      "#|Warning: Invalid chunk definition: (MAKE-RESPONSE ISA GOAL FPROC YES) names a chunk which already exists. |#\n",
      "sim  23\n",
      "0\n",
      "#|Warning: Invalid chunk definition: (MAKE-RESPONSE ISA GOAL FPROC YES) names a chunk which already exists. |#\n",
      "sim  24\n",
      "0\n",
      "#|Warning: Invalid chunk definition: (MAKE-RESPONSE ISA GOAL FPROC YES) names a chunk which already exists. |#\n",
      "sim  25\n",
      "0\n",
      "#|Warning: Invalid chunk definition: (MAKE-RESPONSE ISA GOAL FPROC YES) names a chunk which already exists. |#\n",
      "sim  26\n",
      "0\n",
      "#|Warning: Invalid chunk definition: (MAKE-RESPONSE ISA GOAL FPROC YES) names a chunk which already exists. |#\n",
      "sim  27\n",
      "0\n",
      "#|Warning: Invalid chunk definition: (MAKE-RESPONSE ISA GOAL FPROC YES) names a chunk which already exists. |#\n",
      "sim  28\n",
      "0\n",
      "#|Warning: Invalid chunk definition: (MAKE-RESPONSE ISA GOAL FPROC YES) names a chunk which already exists. |#\n",
      "sim  29\n",
      "0\n",
      "#|Warning: Invalid chunk definition: (MAKE-RESPONSE ISA GOAL FPROC YES) names a chunk which already exists. |#\n",
      "sim  30\n",
      "0\n",
      "#|Warning: Invalid chunk definition: (MAKE-RESPONSE ISA GOAL FPROC YES) names a chunk which already exists. |#\n",
      "sim  31\n",
      "0\n",
      "#|Warning: Invalid chunk definition: (MAKE-RESPONSE ISA GOAL FPROC YES) names a chunk which already exists. |#\n",
      "sim  32\n",
      "0\n",
      "#|Warning: Invalid chunk definition: (MAKE-RESPONSE ISA GOAL FPROC YES) names a chunk which already exists. |#\n",
      "sim  33\n",
      "0\n",
      "#|Warning: Invalid chunk definition: (MAKE-RESPONSE ISA GOAL FPROC YES) names a chunk which already exists. |#\n",
      "sim  34\n",
      "0\n",
      "#|Warning: Invalid chunk definition: (MAKE-RESPONSE ISA GOAL FPROC YES) names a chunk which already exists. |#\n",
      "sim  35\n",
      "0\n",
      "#|Warning: Invalid chunk definition: (MAKE-RESPONSE ISA GOAL FPROC YES) names a chunk which already exists. |#\n",
      "sim  36\n",
      "0\n",
      "#|Warning: Invalid chunk definition: (MAKE-RESPONSE ISA GOAL FPROC YES) names a chunk which already exists. |#\n",
      "sim  37\n",
      "0\n",
      "#|Warning: Invalid chunk definition: (MAKE-RESPONSE ISA GOAL FPROC YES) names a chunk which already exists. |#\n",
      "sim  38\n",
      "0\n",
      "#|Warning: Invalid chunk definition: (MAKE-RESPONSE ISA GOAL FPROC YES) names a chunk which already exists. |#\n",
      "sim  39\n",
      "0\n",
      "#|Warning: Invalid chunk definition: (MAKE-RESPONSE ISA GOAL FPROC YES) names a chunk which already exists. |#\n",
      "sim  40\n",
      "0\n",
      "#|Warning: Invalid chunk definition: (MAKE-RESPONSE ISA GOAL FPROC YES) names a chunk which already exists. |#\n",
      "sim  41\n",
      "0\n",
      "#|Warning: Invalid chunk definition: (MAKE-RESPONSE ISA GOAL FPROC YES) names a chunk which already exists. |#\n",
      "sim  42\n",
      "0\n",
      "#|Warning: Invalid chunk definition: (MAKE-RESPONSE ISA GOAL FPROC YES) names a chunk which already exists. |#\n",
      "sim  43\n",
      "0\n",
      "#|Warning: Invalid chunk definition: (MAKE-RESPONSE ISA GOAL FPROC YES) names a chunk which already exists. |#\n",
      "sim  44\n",
      "0\n",
      "#|Warning: Invalid chunk definition: (MAKE-RESPONSE ISA GOAL FPROC YES) names a chunk which already exists. |#\n",
      "sim  45\n",
      "0\n",
      "#|Warning: Invalid chunk definition: (MAKE-RESPONSE ISA GOAL FPROC YES) names a chunk which already exists. |#\n",
      "sim  46\n",
      "0\n",
      "#|Warning: Invalid chunk definition: (MAKE-RESPONSE ISA GOAL FPROC YES) names a chunk which already exists. |#\n",
      "sim  47\n",
      "0\n",
      "#|Warning: Invalid chunk definition: (MAKE-RESPONSE ISA GOAL FPROC YES) names a chunk which already exists. |#\n",
      "sim  48\n",
      "0\n",
      "#|Warning: Invalid chunk definition: (MAKE-RESPONSE ISA GOAL FPROC YES) names a chunk which already exists. |#\n",
      "sim  49\n",
      "0\n",
      "#|Warning: Invalid chunk definition: (MAKE-RESPONSE ISA GOAL FPROC YES) names a chunk which already exists. |#\n",
      "sim  50\n",
      "0\n",
      "#|Warning: Invalid chunk definition: (MAKE-RESPONSE ISA GOAL FPROC YES) names a chunk which already exists. |#\n",
      "sim  51\n",
      "0\n",
      "#|Warning: Invalid chunk definition: (MAKE-RESPONSE ISA GOAL FPROC YES) names a chunk which already exists. |#\n",
      "sim  52\n",
      "0\n",
      "#|Warning: Invalid chunk definition: (MAKE-RESPONSE ISA GOAL FPROC YES) names a chunk which already exists. |#\n",
      "sim  53\n",
      "0\n",
      "#|Warning: Invalid chunk definition: (MAKE-RESPONSE ISA GOAL FPROC YES) names a chunk which already exists. |#\n",
      "sim  54\n",
      "0\n",
      "#|Warning: Invalid chunk definition: (MAKE-RESPONSE ISA GOAL FPROC YES) names a chunk which already exists. |#\n",
      "sim  55\n",
      "0\n",
      "#|Warning: Invalid chunk definition: (MAKE-RESPONSE ISA GOAL FPROC YES) names a chunk which already exists. |#\n",
      "sim  56\n",
      "0\n",
      "#|Warning: Invalid chunk definition: (MAKE-RESPONSE ISA GOAL FPROC YES) names a chunk which already exists. |#\n",
      "sim  57\n",
      "0\n",
      "#|Warning: Invalid chunk definition: (MAKE-RESPONSE ISA GOAL FPROC YES) names a chunk which already exists. |#\n",
      "sim  58\n",
      "0\n",
      "#|Warning: Invalid chunk definition: (MAKE-RESPONSE ISA GOAL FPROC YES) names a chunk which already exists. |#\n",
      "sim  59\n",
      "0\n",
      "#|Warning: Invalid chunk definition: (MAKE-RESPONSE ISA GOAL FPROC YES) names a chunk which already exists. |#\n",
      "sim  60\n",
      "0\n",
      "#|Warning: Invalid chunk definition: (MAKE-RESPONSE ISA GOAL FPROC YES) names a chunk which already exists. |#\n",
      "sim  61\n",
      "0\n",
      "#|Warning: Invalid chunk definition: (MAKE-RESPONSE ISA GOAL FPROC YES) names a chunk which already exists. |#\n",
      "sim  62\n",
      "0\n",
      "#|Warning: Invalid chunk definition: (MAKE-RESPONSE ISA GOAL FPROC YES) names a chunk which already exists. |#\n",
      "sim  63\n",
      "0\n",
      "#|Warning: Invalid chunk definition: (MAKE-RESPONSE ISA GOAL FPROC YES) names a chunk which already exists. |#\n",
      "sim  64\n",
      "0\n",
      "#|Warning: Invalid chunk definition: (MAKE-RESPONSE ISA GOAL FPROC YES) names a chunk which already exists. |#\n",
      "sim  65\n",
      "0\n",
      "#|Warning: Invalid chunk definition: (MAKE-RESPONSE ISA GOAL FPROC YES) names a chunk which already exists. |#\n",
      "sim  66\n",
      "0\n",
      "#|Warning: Invalid chunk definition: (MAKE-RESPONSE ISA GOAL FPROC YES) names a chunk which already exists. |#\n",
      "sim  67\n",
      "0\n",
      "#|Warning: Invalid chunk definition: (MAKE-RESPONSE ISA GOAL FPROC YES) names a chunk which already exists. |#\n",
      "sim  68\n",
      "0\n",
      "#|Warning: Invalid chunk definition: (MAKE-RESPONSE ISA GOAL FPROC YES) names a chunk which already exists. |#\n",
      "sim  69\n",
      "0\n",
      "#|Warning: Invalid chunk definition: (MAKE-RESPONSE ISA GOAL FPROC YES) names a chunk which already exists. |#\n",
      "sim  70\n",
      "0\n",
      "#|Warning: Invalid chunk definition: (MAKE-RESPONSE ISA GOAL FPROC YES) names a chunk which already exists. |#\n",
      "sim  71\n",
      "0\n",
      "#|Warning: Invalid chunk definition: (MAKE-RESPONSE ISA GOAL FPROC YES) names a chunk which already exists. |#\n",
      "sim  72\n",
      "0\n",
      "#|Warning: Invalid chunk definition: (MAKE-RESPONSE ISA GOAL FPROC YES) names a chunk which already exists. |#\n",
      "sim  73\n",
      "0\n",
      "#|Warning: Invalid chunk definition: (MAKE-RESPONSE ISA GOAL FPROC YES) names a chunk which already exists. |#\n",
      "sim  74\n",
      "0\n",
      "#|Warning: Invalid chunk definition: (MAKE-RESPONSE ISA GOAL FPROC YES) names a chunk which already exists. |#\n",
      "sim  75\n",
      "0\n",
      "#|Warning: Invalid chunk definition: (MAKE-RESPONSE ISA GOAL FPROC YES) names a chunk which already exists. |#\n",
      "sim  76\n",
      "0\n",
      "#|Warning: Invalid chunk definition: (MAKE-RESPONSE ISA GOAL FPROC YES) names a chunk which already exists. |#\n",
      "sim  77\n",
      "0\n",
      "#|Warning: Invalid chunk definition: (MAKE-RESPONSE ISA GOAL FPROC YES) names a chunk which already exists. |#\n",
      "sim  78\n",
      "0\n",
      "#|Warning: Invalid chunk definition: (MAKE-RESPONSE ISA GOAL FPROC YES) names a chunk which already exists. |#\n",
      "sim  79\n",
      "0\n",
      "#|Warning: Invalid chunk definition: (MAKE-RESPONSE ISA GOAL FPROC YES) names a chunk which already exists. |#\n",
      "sim  80\n",
      "0\n",
      "#|Warning: Invalid chunk definition: (MAKE-RESPONSE ISA GOAL FPROC YES) names a chunk which already exists. |#\n",
      "sim  81\n",
      "0\n",
      "#|Warning: Invalid chunk definition: (MAKE-RESPONSE ISA GOAL FPROC YES) names a chunk which already exists. |#\n",
      "sim  82\n",
      "0\n",
      "#|Warning: Invalid chunk definition: (MAKE-RESPONSE ISA GOAL FPROC YES) names a chunk which already exists. |#\n",
      "sim  83\n",
      "0\n",
      "#|Warning: Invalid chunk definition: (MAKE-RESPONSE ISA GOAL FPROC YES) names a chunk which already exists. |#\n",
      "sim  84\n",
      "0\n",
      "#|Warning: Invalid chunk definition: (MAKE-RESPONSE ISA GOAL FPROC YES) names a chunk which already exists. |#\n",
      "sim  85\n",
      "0\n",
      "#|Warning: Invalid chunk definition: (MAKE-RESPONSE ISA GOAL FPROC YES) names a chunk which already exists. |#\n",
      "sim  86\n",
      "0\n",
      "#|Warning: Invalid chunk definition: (MAKE-RESPONSE ISA GOAL FPROC YES) names a chunk which already exists. |#\n",
      "sim  87\n",
      "0\n",
      "#|Warning: Invalid chunk definition: (MAKE-RESPONSE ISA GOAL FPROC YES) names a chunk which already exists. |#\n",
      "sim  88\n",
      "0\n",
      "#|Warning: Invalid chunk definition: (MAKE-RESPONSE ISA GOAL FPROC YES) names a chunk which already exists. |#\n",
      "sim  89\n",
      "0\n",
      "#|Warning: Invalid chunk definition: (MAKE-RESPONSE ISA GOAL FPROC YES) names a chunk which already exists. |#\n",
      "sim  90\n",
      "0\n",
      "#|Warning: Invalid chunk definition: (MAKE-RESPONSE ISA GOAL FPROC YES) names a chunk which already exists. |#\n",
      "sim  91\n",
      "0\n",
      "#|Warning: Invalid chunk definition: (MAKE-RESPONSE ISA GOAL FPROC YES) names a chunk which already exists. |#\n",
      "sim  92\n",
      "0\n",
      "#|Warning: Invalid chunk definition: (MAKE-RESPONSE ISA GOAL FPROC YES) names a chunk which already exists. |#\n",
      "sim  93\n",
      "0\n",
      "#|Warning: Invalid chunk definition: (MAKE-RESPONSE ISA GOAL FPROC YES) names a chunk which already exists. |#\n",
      "sim  94\n",
      "0\n",
      "#|Warning: Invalid chunk definition: (MAKE-RESPONSE ISA GOAL FPROC YES) names a chunk which already exists. |#\n",
      "sim  95\n",
      "0\n",
      "#|Warning: Invalid chunk definition: (MAKE-RESPONSE ISA GOAL FPROC YES) names a chunk which already exists. |#\n",
      "sim  96\n",
      "0\n",
      "#|Warning: Invalid chunk definition: (MAKE-RESPONSE ISA GOAL FPROC YES) names a chunk which already exists. |#\n",
      "sim  97\n",
      "0\n",
      "#|Warning: Invalid chunk definition: (MAKE-RESPONSE ISA GOAL FPROC YES) names a chunk which already exists. |#\n",
      "sim  98\n",
      "0\n",
      "#|Warning: Invalid chunk definition: (MAKE-RESPONSE ISA GOAL FPROC YES) names a chunk which already exists. |#\n",
      "sim  99\n",
      "0\n",
      "#|Warning: Invalid chunk definition: (MAKE-RESPONSE ISA GOAL FPROC YES) names a chunk which already exists. |#\n"
     ]
    }
   ],
   "source": [
    "#ltm.simulation(0.3,0.5,0.1,100)\n",
    "rl.simulation(0.25,0.1,100)\n"
   ]
  },
  {
   "cell_type": "code",
   "execution_count": null,
   "id": "8a955ad2-ec72-4d34-a493-2d83091919ad",
   "metadata": {
    "tags": []
   },
   "outputs": [],
   "source": [
    "rl.sim_data.to_csv('./simulated_data/LTM_model/partial.csv')"
   ]
  },
  {
   "cell_type": "code",
   "execution_count": null,
   "id": "f1bfca84-d7ea-4422-9f44-b948e83cb7e9",
   "metadata": {},
   "outputs": [],
   "source": [
    "actr.whynot()\n",
    "\n",
    "\n"
   ]
  },
  {
   "cell_type": "code",
   "execution_count": 6,
   "id": "b9dcd869-59d5-4b15-a265-bbb76024b81c",
   "metadata": {},
   "outputs": [
    {
     "name": "stdout",
     "output_type": "stream",
     "text": [
      "          acc  alpha  egs\n",
      "idx                      \n",
      "1    0.732632   0.25  0.1\n",
      "2    0.636667   0.25  0.1\n",
      "3    0.836154   0.25  0.1\n",
      "4    0.458889   0.25  0.1\n",
      "5    0.633333   0.25  0.1\n",
      "6    0.450000   0.25  0.1\n",
      "7    0.810000   0.25  0.1\n",
      "8    0.682632   0.25  0.1\n",
      "9    0.458333   0.25  0.1\n",
      "10   0.600833   0.25  0.1\n",
      "11   0.551111   0.25  0.1\n",
      "12   0.836154   0.25  0.1\n",
      "13   0.424444   0.25  0.1\n",
      "14   0.802632   0.25  0.1\n"
     ]
    },
    {
     "data": {
      "text/plain": [
       "<AxesSubplot:xlabel='idx'>"
      ]
     },
     "execution_count": 6,
     "metadata": {},
     "output_type": "execute_result"
    },
    {
     "data": {
      "image/png": "[encoded data removed]",
      "text/plain": [
       "<Figure size 432x288 with 1 Axes>"
      ]
     },
     "metadata": {
      "needs_background": "light"
     },
     "output_type": "display_data"
    }
   ],
   "source": [
    "print(rl.sim_data.groupby('idx').mean())\n",
    "\n",
    "rl.sim_data.groupby('idx').mean().plot(kind='bar')"
   ]
  },
  {
   "cell_type": "code",
   "execution_count": null,
   "id": "09914688-bf97-49b8-925d-0346e4bbaca1",
   "metadata": {
    "collapsed": true,
    "jupyter": {
     "outputs_hidden": true
    },
    "tags": []
   },
   "outputs": [
    {
     "ename": "KeyError",
     "evalue": "'index'",
     "output_type": "error",
     "traceback": [
      "\u001b[0;31m---------------------------------------------------------------------------\u001b[0m",
      "\u001b[0;31mKeyError\u001b[0m                                  Traceback (most recent call last)",
      "\u001b[0;32m<ipython-input-4-a71c76d7bdec>\u001b[0m in \u001b[0;36m<module>\u001b[0;34m\u001b[0m\n\u001b[0;32m----> 1\u001b[0;31m \u001b[0mprint\u001b[0m\u001b[0;34m(\u001b[0m\u001b[0mrl\u001b[0m\u001b[0;34m.\u001b[0m\u001b[0msim_data\u001b[0m\u001b[0;34m.\u001b[0m\u001b[0mgroupby\u001b[0m\u001b[0;34m(\u001b[0m\u001b[0;34m'index'\u001b[0m\u001b[0;34m)\u001b[0m\u001b[0;34m.\u001b[0m\u001b[0mmean\u001b[0m\u001b[0;34m(\u001b[0m\u001b[0;34m)\u001b[0m\u001b[0;34m)\u001b[0m\u001b[0;34m\u001b[0m\u001b[0;34m\u001b[0m\u001b[0m\n\u001b[0m\u001b[1;32m      2\u001b[0m \u001b[0;34m\u001b[0m\u001b[0m\n\u001b[1;32m      3\u001b[0m \u001b[0mrl\u001b[0m\u001b[0;34m.\u001b[0m\u001b[0msim_data\u001b[0m\u001b[0;34m.\u001b[0m\u001b[0mgroupby\u001b[0m\u001b[0;34m(\u001b[0m\u001b[0;34m'index'\u001b[0m\u001b[0;34m)\u001b[0m\u001b[0;34m.\u001b[0m\u001b[0mmean\u001b[0m\u001b[0;34m(\u001b[0m\u001b[0;34m)\u001b[0m\u001b[0;34m.\u001b[0m\u001b[0mplot\u001b[0m\u001b[0;34m(\u001b[0m\u001b[0mkind\u001b[0m\u001b[0;34m=\u001b[0m\u001b[0;34m'bar'\u001b[0m\u001b[0;34m)\u001b[0m\u001b[0;34m\u001b[0m\u001b[0;34m\u001b[0m\u001b[0m\n\u001b[1;32m      4\u001b[0m \u001b[0;31m#hstat.plot(y='m',yerr = 'sem')\u001b[0m\u001b[0;34m\u001b[0m\u001b[0;34m\u001b[0m\u001b[0m\n",
      "\u001b[0;32m/usr/local/lib/python3.9/site-packages/pandas/core/frame.py\u001b[0m in \u001b[0;36mgroupby\u001b[0;34m(self, by, axis, level, as_index, sort, group_keys, squeeze, observed, dropna)\u001b[0m\n\u001b[1;32m   6513\u001b[0m         \u001b[0maxis\u001b[0m \u001b[0;34m=\u001b[0m \u001b[0mself\u001b[0m\u001b[0;34m.\u001b[0m\u001b[0m_get_axis_number\u001b[0m\u001b[0;34m(\u001b[0m\u001b[0maxis\u001b[0m\u001b[0;34m)\u001b[0m\u001b[0;34m\u001b[0m\u001b[0;34m\u001b[0m\u001b[0m\n\u001b[1;32m   6514\u001b[0m \u001b[0;34m\u001b[0m\u001b[0m\n\u001b[0;32m-> 6515\u001b[0;31m         return DataFrameGroupBy(\n\u001b[0m\u001b[1;32m   6516\u001b[0m             \u001b[0mobj\u001b[0m\u001b[0;34m=\u001b[0m\u001b[0mself\u001b[0m\u001b[0;34m,\u001b[0m\u001b[0;34m\u001b[0m\u001b[0;34m\u001b[0m\u001b[0m\n\u001b[1;32m   6517\u001b[0m             \u001b[0mkeys\u001b[0m\u001b[0;34m=\u001b[0m\u001b[0mby\u001b[0m\u001b[0;34m,\u001b[0m\u001b[0;34m\u001b[0m\u001b[0;34m\u001b[0m\u001b[0m\n",
      "\u001b[0;32m/usr/local/lib/python3.9/site-packages/pandas/core/groupby/groupby.py\u001b[0m in \u001b[0;36m__init__\u001b[0;34m(self, obj, keys, axis, level, grouper, exclusions, selection, as_index, sort, group_keys, squeeze, observed, mutated, dropna)\u001b[0m\n\u001b[1;32m    523\u001b[0m             \u001b[0;32mfrom\u001b[0m \u001b[0mpandas\u001b[0m\u001b[0;34m.\u001b[0m\u001b[0mcore\u001b[0m\u001b[0;34m.\u001b[0m\u001b[0mgroupby\u001b[0m\u001b[0;34m.\u001b[0m\u001b[0mgrouper\u001b[0m \u001b[0;32mimport\u001b[0m \u001b[0mget_grouper\u001b[0m\u001b[0;34m\u001b[0m\u001b[0;34m\u001b[0m\u001b[0m\n\u001b[1;32m    524\u001b[0m \u001b[0;34m\u001b[0m\u001b[0m\n\u001b[0;32m--> 525\u001b[0;31m             grouper, exclusions, obj = get_grouper(\n\u001b[0m\u001b[1;32m    526\u001b[0m                 \u001b[0mobj\u001b[0m\u001b[0;34m,\u001b[0m\u001b[0;34m\u001b[0m\u001b[0;34m\u001b[0m\u001b[0m\n\u001b[1;32m    527\u001b[0m                 \u001b[0mkeys\u001b[0m\u001b[0;34m,\u001b[0m\u001b[0;34m\u001b[0m\u001b[0;34m\u001b[0m\u001b[0m\n",
      "\u001b[0;32m/usr/local/lib/python3.9/site-packages/pandas/core/groupby/grouper.py\u001b[0m in \u001b[0;36mget_grouper\u001b[0;34m(obj, key, axis, level, sort, observed, mutated, validate, dropna)\u001b[0m\n\u001b[1;32m    784\u001b[0m                 \u001b[0min_axis\u001b[0m\u001b[0;34m,\u001b[0m \u001b[0mname\u001b[0m\u001b[0;34m,\u001b[0m \u001b[0mlevel\u001b[0m\u001b[0;34m,\u001b[0m \u001b[0mgpr\u001b[0m \u001b[0;34m=\u001b[0m \u001b[0;32mFalse\u001b[0m\u001b[0;34m,\u001b[0m \u001b[0;32mNone\u001b[0m\u001b[0;34m,\u001b[0m \u001b[0mgpr\u001b[0m\u001b[0;34m,\u001b[0m \u001b[0;32mNone\u001b[0m\u001b[0;34m\u001b[0m\u001b[0;34m\u001b[0m\u001b[0m\n\u001b[1;32m    785\u001b[0m             \u001b[0;32melse\u001b[0m\u001b[0;34m:\u001b[0m\u001b[0;34m\u001b[0m\u001b[0;34m\u001b[0m\u001b[0m\n\u001b[0;32m--> 786\u001b[0;31m                 \u001b[0;32mraise\u001b[0m \u001b[0mKeyError\u001b[0m\u001b[0;34m(\u001b[0m\u001b[0mgpr\u001b[0m\u001b[0;34m)\u001b[0m\u001b[0;34m\u001b[0m\u001b[0;34m\u001b[0m\u001b[0m\n\u001b[0m\u001b[1;32m    787\u001b[0m         \u001b[0;32melif\u001b[0m \u001b[0misinstance\u001b[0m\u001b[0;34m(\u001b[0m\u001b[0mgpr\u001b[0m\u001b[0;34m,\u001b[0m \u001b[0mGrouper\u001b[0m\u001b[0;34m)\u001b[0m \u001b[0;32mand\u001b[0m \u001b[0mgpr\u001b[0m\u001b[0;34m.\u001b[0m\u001b[0mkey\u001b[0m \u001b[0;32mis\u001b[0m \u001b[0;32mnot\u001b[0m \u001b[0;32mNone\u001b[0m\u001b[0;34m:\u001b[0m\u001b[0;34m\u001b[0m\u001b[0;34m\u001b[0m\u001b[0m\n\u001b[1;32m    788\u001b[0m             \u001b[0;31m# Add key to exclusions\u001b[0m\u001b[0;34m\u001b[0m\u001b[0;34m\u001b[0m\u001b[0m\n",
      "\u001b[0;31mKeyError\u001b[0m: 'index'"
     ]
    }
   ],
   "source": [
    "print(rl.sim_data.groupby('index').mean())\n",
    "\n",
    "rl.sim_data.groupby('index').mean().plot(kind='bar')\n",
    "#hstat.plot(y='m',yerr = 'sem') \n"
   ]
  },
  {
   "cell_type": "code",
   "execution_count": null,
   "id": "85f281fc-1fce-4f1f-be5c-becf879dd0c1",
   "metadata": {},
   "outputs": [],
   "source": [
    "acc_freq_cor = pd.DataFrame({'freq': [19,9,26,9,12,6,19,19,6,12,9,26,9,19], \n",
    "                            'mean_acc': ltm.sim_data.groupby('index').mean().loc[:,'acc']})\n",
    "acc_freq_cor.plot(x='freq',y='mean_acc',kind='scatter',s=100, alpha=.5)"
   ]
  },
  {
   "cell_type": "code",
   "execution_count": 11,
   "id": "622f3797-7bed-416a-9186-4f24a0358a59",
   "metadata": {},
   "outputs": [
    {
     "data": {
      "text/plain": [
       "<AxesSubplot:xlabel='mean_acc', ylabel='freq'>"
      ]
     },
     "execution_count": 11,
     "metadata": {},
     "output_type": "execute_result"
    },
    {
     "data": {
      "image/png": "[encoded data removed]",
      "text/plain": [
       "<Figure size 432x288 with 1 Axes>"
      ]
     },
     "metadata": {
      "needs_background": "light"
     },
     "output_type": "display_data"
    }
   ],
   "source": [
    "acc_freq_cor = pd.DataFrame({'freq': [19,9,26,9,12,6,19,19,6,12,9,26,9,19], \n",
    "                            'mean_acc': rl.sim_data.groupby('idx').mean().loc[:,'acc']})\n",
    "acc_freq_cor.plot(y='freq',x='mean_acc',kind='scatter',s=100, alpha=.5,xlim=(0,1))"
   ]
  },
  {
   "cell_type": "code",
   "execution_count": null,
   "id": "6bf9f39d-b3e6-4b34-a309-6ec33cde37e2",
   "metadata": {},
   "outputs": [],
   "source": []
  }
 ],
 "metadata": {
  "kernelspec": {
   "display_name": "Python 3",
   "language": "python",
   "name": "python3"
  },
  "language_info": {
   "codemirror_mode": {
    "name": "ipython",
    "version": 3
   },
   "file_extension": ".py",
   "mimetype": "text/x-python",
   "name": "python",
   "nbconvert_exporter": "python",
   "pygments_lexer": "ipython3",
   "version": "3.9.7"
  }
 },
 "nbformat": 4,
 "nbformat_minor": 5
}
