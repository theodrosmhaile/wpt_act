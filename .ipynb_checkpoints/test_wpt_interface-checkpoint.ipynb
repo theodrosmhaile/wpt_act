{
 "cells": [
  {
   "cell_type": "code",
   "execution_count": 1,
   "id": "899234a1-a0fa-41fa-93e8-c80876dd7c85",
   "metadata": {},
   "outputs": [
    {
     "name": "stdout",
     "output_type": "stream",
     "text": [
      "ACT-R connection has been started.\n"
     ]
    }
   ],
   "source": [
    "import pandas as pd\n",
    "import numpy as np\n",
    "import actr\n",
    "import os\n"
   ]
  },
  {
   "cell_type": "code",
   "execution_count": null,
   "id": "02f32440-46ce-4334-97be-6e170778b3cf",
   "metadata": {
    "tags": []
   },
   "outputs": [],
   "source": [
    "pat=pd.read_csv('./WPT_task/card_pattern_li.csv',header=None)\n",
    "pat[pat==0]=np.nan\n",
    "stim_lineup=pd.read_csv('./WPT_task/complete_trial_wpt.csv')\n"
   ]
  },
  {
   "cell_type": "code",
   "execution_count": null,
   "id": "ebfbacaf-531f-49a0-bd69-1d3e80c80c27",
   "metadata": {},
   "outputs": [],
   "source": [
    "stim_names = pd.DataFrame({1:['square','square','square','square','square','square','square',\n",
    "                                np.nan,np.nan,np.nan,np.nan,np.nan,np.nan,np.nan],\n",
    "                           2:['diamond','diamond','diamond',np.nan,np.nan,np.nan,np.nan,\n",
    "                              'diamond','diamond','diamond','diamond',np.nan,np.nan,np.nan],\n",
    "                          3:['circle',np.nan,np.nan,'circle','circle',np.nan,np.nan,'circle','circle',\n",
    "                            np.nan,np.nan,'circle','circle',np.nan],\n",
    "                          4:[np.nan, 'triangle',np.nan,'triangle',np.nan,'triangle',np.nan,'triangle',np.nan,'triangle',np.nan,\n",
    "                            'triangle',np.nan, 'triangle']})"
   ]
  },
  {
   "cell_type": "code",
   "execution_count": null,
   "id": "e77d2c26-115d-4c56-890d-ffb13a5b6eea",
   "metadata": {},
   "outputs": [],
   "source": [
    "\n",
    "\n",
    "stims1=np.array(stim_names.loc[stim_lineup.loc[1,'id']-1].dropna(how='all'))\n",
    "\n",
    "\n",
    "stims1[1]\n"
   ]
  },
  {
   "cell_type": "code",
   "execution_count": 2,
   "id": "14a2a79b-67cf-44a7-b63d-42746440050d",
   "metadata": {},
   "outputs": [
    {
     "name": "stdout",
     "output_type": "stream",
     "text": [
      "#|Warning: Creating chunk YES with no slots |#\n",
      "#|Warning: Creating chunk CIRCLE with no slots |#\n",
      "#|Warning: Creating chunk DIAMOND with no slots |#\n",
      "#|Warning: Production CUP-J uses previously undefined slots (PICTURE). |#\n",
      "#|Warning: Creating chunk CUP with no slots |#\n",
      "#|Warning: Creating chunk NO with no slots |#\n"
     ]
    }
   ],
   "source": [
    "import RL_model_interface as rl"
   ]
  },
  {
   "cell_type": "code",
   "execution_count": 3,
   "id": "ad11ccc8-092c-4ce8-8996-0ad21f326519",
   "metadata": {},
   "outputs": [
    {
     "name": "stdout",
     "output_type": "stream",
     "text": [
      "vars reset\n",
      "sim  0\n",
      "#|Warning: Creating chunk YES with no slots |#\n",
      "#|Warning: Creating chunk CIRCLE with no slots |#\n",
      "#|Warning: Creating chunk DIAMOND with no slots |#\n",
      "#|Warning: Production CUP-J uses previously undefined slot PICTURE. |#\n",
      "#|Warning: Creating chunk CUP with no slots |#\n",
      "#|Warning: Creating chunk NO with no slots |#\n",
      "0\n",
      "Presented:  3\n",
      "correct response:  s\n"
     ]
    }
   ],
   "source": [
    "rl.simulation(0,0.2,0.2,0,0,1)\n"
   ]
  },
  {
   "cell_type": "code",
   "execution_count": 4,
   "id": "421d397b-d048-4a8f-a8b7-5820411a2dc7",
   "metadata": {},
   "outputs": [
    {
     "data": {
      "text/plain": [
       "'VISUAL-CHUNK0'"
      ]
     },
     "execution_count": 4,
     "metadata": {},
     "output_type": "execute_result"
    }
   ],
   "source": [
    "chunks = actr.define_chunks(['isa', 'stimulus', 'card1', 'circle'], ['isa', 'stimulus', 'card2', 'diamond'])\n",
    "        #actr.define_chunks(['isa', 'stimulus', 'card1', stims1[1]], ['isa', 'stimulus', 'card2', stims1[0]])\n",
    "actr.set_buffer_chunk('visual', chunks)\n"
   ]
  }
 ],
 "metadata": {
  "kernelspec": {
   "display_name": "Python 3",
   "language": "python",
   "name": "python3"
  },
  "language_info": {
   "codemirror_mode": {
    "name": "ipython",
    "version": 3
   },
   "file_extension": ".py",
   "mimetype": "text/x-python",
   "name": "python",
   "nbconvert_exporter": "python",
   "pygments_lexer": "ipython3",
   "version": "3.9.7"
  }
 },
 "nbformat": 4,
 "nbformat_minor": 5
}
