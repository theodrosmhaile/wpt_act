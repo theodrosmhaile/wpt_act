{
 "cells": [
  {
   "cell_type": "code",
   "execution_count": 1,
   "id": "280831d1-3019-4747-a8af-8efa0f42836c",
   "metadata": {},
   "outputs": [
    {
     "name": "stdout",
     "output_type": "stream",
     "text": [
      "ACT-R connection has been started.\n"
     ]
    }
   ],
   "source": [
    "import numpy as np\n",
    "import pandas as pd\n",
    "import actr"
   ]
  },
  {
   "cell_type": "code",
   "execution_count": null,
   "id": "8cec8ce7-be9f-4480-924d-15f32bffb0ee",
   "metadata": {},
   "outputs": [],
   "source": [
    "actr."
   ]
  }
 ],
 "metadata": {
  "kernelspec": {
   "display_name": "Python 3",
   "language": "python",
   "name": "python3"
  },
  "language_info": {
   "codemirror_mode": {
    "name": "ipython",
    "version": 3
   },
   "file_extension": ".py",
   "mimetype": "text/x-python",
   "name": "python",
   "nbconvert_exporter": "python",
   "pygments_lexer": "ipython3",
   "version": "3.9.7"
  }
 },
 "nbformat": 4,
 "nbformat_minor": 5
}
